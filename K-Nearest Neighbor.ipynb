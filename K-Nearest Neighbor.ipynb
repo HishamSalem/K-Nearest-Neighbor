{
 "cells": [
  {
   "cell_type": "markdown",
   "metadata": {},
   "source": [
    "# K-Nearest Neighbor"
   ]
  },
  {
   "cell_type": "markdown",
   "metadata": {},
   "source": [
    "## Project 1"
   ]
  },
  {
   "cell_type": "code",
   "execution_count": 6,
   "metadata": {},
   "outputs": [
    {
     "data": {
      "text/plain": [
       "array([[0.5, 0.5]])"
      ]
     },
     "execution_count": 6,
     "metadata": {},
     "output_type": "execute_result"
    }
   ],
   "source": [
    "from sklearn.neighbors import KNeighborsClassifier\n",
    "import numpy\n",
    "import pandas\n",
    "\n",
    "data = numpy.array([['Black',1,1],['Blue',0,0],['Blue',-1,-1]])\n",
    "column_names = ['y', 'x1', 'x2']\n",
    "\n",
    "df = pandas.DataFrame(data, columns=column_names)\n",
    "\n",
    "X=df.iloc[:,1:3]\n",
    "y=df[\"y\"]\n",
    "\n",
    "knn=KNeighborsClassifier(n_neighbors=2)\n",
    "model=knn.fit(X,y)\n",
    "\n",
    "new_obs=[[0.1,0.1]]\n",
    "\n",
    "#model1.predict(new_obs)\n",
    "model.predict_proba(new_obs)"
   ]
  },
  {
   "cell_type": "markdown",
   "metadata": {},
   "source": [
    "## Project 2"
   ]
  },
  {
   "cell_type": "code",
   "execution_count": 20,
   "metadata": {},
   "outputs": [],
   "source": [
    "\n",
    "import pandas as pd\n",
    "\n",
    "from sklearn.model_selection import train_test_split\n",
    "from sklearn.neighbors import KNeighborsClassifier\n",
    "from sklearn.preprocessing import StandardScaler\n",
    "from sklearn.preprocessing import LabelEncoder\n",
    "from sklearn.metrics import accuracy_score, confusion_matrix\n",
    "\n",
    "#read data into data frame, data\n",
    "path='C:/Users/hisha/Desktop/Certfication/FlightDelays.csv'\n",
    "data = pd.read_csv(path)\n",
    "\n",
    "\n"
   ]
  },
  {
   "cell_type": "code",
   "execution_count": 21,
   "metadata": {},
   "outputs": [],
   "source": [
    "#drop the columns that we don't need!\n",
    "data = data.drop(['DEST','ORIGIN','DAY_WEEK','DAY_OF_MONTH'], axis=1)\n",
    "\n",
    "#convert category, Sex, into a number (0 = Female, 1 = Male)\n",
    "labelEncoder = LabelEncoder()\n",
    "labelEncoder.fit(data['Flight Status'])\n",
    "data['Flight Status'] = labelEncoder.transform(data['Flight Status'])\n",
    "\n",
    "#labelEncoder = LabelEncoder()\n",
    "#labelEncoder.fit(data['ORIGIN'])\n",
    "#data['ORIGIN'] = labelEncoder.transform(data['ORIGIN'])\n",
    "\n",
    "#labelEncoder = LabelEncoder()\n",
    "#labelEncoder.fit(data['DEST'])\n",
    "#data['DEST'] = labelEncoder.transform(data['DEST'])\n",
    "\n",
    "labelEncoder = LabelEncoder()\n",
    "labelEncoder.fit(data['CARRIER'])\n",
    "data['CARRIER'] = labelEncoder.transform(data['CARRIER'])\n",
    "\n",
    "# Fill missing values with mean column values in the data set\n",
    "#  In this case, Age had some holes\n",
    "data.fillna(data.mean(), inplace=True)\n",
    "\n",
    "#List all of the predictors needed - DO NOT include the target\n",
    "predictors = ['DEP_TIME','Weather','FL_NUM','TIME_SLOT','CARRIER']\n",
    "\n",
    "#set up target, predictors, and split the training/testing partitions\n",
    "X = data[predictors]\n",
    "y = data['Flight Status']\n",
    "X_train, X_test, y_train, y_test = train_test_split(X, y, test_size=0.3, random_state=0)"
   ]
  },
  {
   "cell_type": "code",
   "execution_count": 22,
   "metadata": {},
   "outputs": [],
   "source": [
    "#Normalize your data Here!!\n",
    "scaler = StandardScaler()\n",
    "\n",
    "# Fit only to the training data\n",
    "scaler.fit(X_train)\n",
    "StandardScaler(copy=True, with_mean=True, with_std=True)\n",
    "\n",
    "# Now apply the transformations to the data:\n",
    "X_train = scaler.transform(X_train)\n",
    "X_test = scaler.transform(X_test)\n",
    "\n",
    "#knn = KNeighborsClassifier(n_neighbors=7, metric='euclidean')"
   ]
  },
  {
   "cell_type": "code",
   "execution_count": 23,
   "metadata": {},
   "outputs": [
    {
     "name": "stdout",
     "output_type": "stream",
     "text": [
      "1 0.846\n",
      "2 0.781\n",
      "3 0.861\n",
      "4 0.85\n",
      "5 0.871\n",
      "6 0.877\n",
      "7 0.868\n",
      "8 0.871\n",
      "9 0.873\n",
      "10 0.87\n",
      "11 0.867\n",
      "12 0.858\n",
      "13 0.853\n",
      "14 0.853\n",
      "15 0.853\n",
      "16 0.849\n",
      "17 0.847\n",
      "18 0.849\n",
      "19 0.84\n",
      "20 0.841\n",
      "21 0.838\n",
      "22 0.838\n",
      "23 0.834\n",
      "24 0.826\n",
      "25 0.832\n",
      "26 0.832\n",
      "27 0.828\n",
      "28 0.826\n",
      "29 0.826\n",
      "30 0.832\n",
      "31 0.828\n",
      "32 0.828\n",
      "33 0.823\n",
      "34 0.828\n",
      "35 0.814\n",
      "36 0.815\n",
      "37 0.815\n",
      "38 0.815\n",
      "39 0.814\n",
      "40 0.814\n"
     ]
    }
   ],
   "source": [
    "#Calculate the optimal k based on test partition accuracy\n",
    "k_range = range(1,41)\n",
    "for k in k_range:\n",
    "    knn = KNeighborsClassifier(n_neighbors=k)\n",
    "    knn.fit(X_train,y_train)\n",
    "    pred=knn.predict(X_test)\n",
    "    acc=accuracy_score(y_test,pred)\n",
    "    print(k, round(acc,3))"
   ]
  },
  {
   "cell_type": "code",
   "execution_count": 24,
   "metadata": {},
   "outputs": [
    {
     "name": "stdout",
     "output_type": "stream",
     "text": [
      "Accuracy: 0.871\n",
      "\n",
      "             Predicted Late  Predicted OnTime\n",
      "True Late                54                76\n",
      "True Ontime               9               522\n"
     ]
    }
   ],
   "source": [
    "#Create a kNN model with recommended k (7)\n",
    "knn = KNeighborsClassifier(n_neighbors=5)\n",
    "knn.fit(X_train,y_train)\n",
    "\n",
    "#test model against test partition\n",
    "pred = knn.predict(X_test)\n",
    "print(\"Accuracy:\", round(accuracy_score(y_test, pred),3))\n",
    "print()\n",
    "\n",
    "confusionMatrix = pd.DataFrame(\n",
    "    confusion_matrix(y_test, pred),\n",
    "    columns=['Predicted Late', 'Predicted OnTime'],\n",
    "    index=['True Late', 'True Ontime']\n",
    ")\n",
    "\n",
    "print(confusionMatrix)"
   ]
  },
  {
   "cell_type": "code",
   "execution_count": null,
   "metadata": {},
   "outputs": [],
   "source": []
  }
 ],
 "metadata": {
  "kernelspec": {
   "display_name": "Python 3",
   "language": "python",
   "name": "python3"
  },
  "language_info": {
   "codemirror_mode": {
    "name": "ipython",
    "version": 3
   },
   "file_extension": ".py",
   "mimetype": "text/x-python",
   "name": "python",
   "nbconvert_exporter": "python",
   "pygments_lexer": "ipython3",
   "version": "3.7.4"
  }
 },
 "nbformat": 4,
 "nbformat_minor": 2
}
